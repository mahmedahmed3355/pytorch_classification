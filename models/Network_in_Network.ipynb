{
  "nbformat": 4,
  "nbformat_minor": 0,
  "metadata": {
    "colab": {
      "name": "Network in Network.ipynb",
      "provenance": [],
      "collapsed_sections": [],
      "authorship_tag": "ABX9TyNbvJCISNfgWcFsM3eCdYOs",
      "include_colab_link": true
    },
    "kernelspec": {
      "name": "python3",
      "display_name": "Python 3"
    }
  },
  "cells": [
    {
      "cell_type": "markdown",
      "metadata": {
        "id": "view-in-github",
        "colab_type": "text"
      },
      "source": [
        "<a href=\"https://colab.research.google.com/github/moh2236945/pytorch_classification/blob/master/models/Network_in_Network.ipynb\" target=\"_parent\"><img src=\"https://colab.research.google.com/assets/colab-badge.svg\" alt=\"Open In Colab\"/></a>"
      ]
    },
    {
      "cell_type": "code",
      "metadata": {
        "id": "_Y7RRh_bKqp6",
        "colab_type": "code",
        "colab": {}
      },
      "source": [
        "#Basic Library\n",
        "import os\n",
        "import torch\n",
        "import torch.nn as nn\n",
        "import torch.optim as optim\n",
        "from torch.autograd import Variable\n",
        "import torch.functional as F\n",
        "from torch.utils import data\n",
        "import torchvision.datasets as datasets\n",
        "import torchvision.transforms as transforms"
      ],
      "execution_count": 2,
      "outputs": []
    },
    {
      "cell_type": "code",
      "metadata": {
        "id": "AMPwW5bXL0OE",
        "colab_type": "code",
        "colab": {}
      },
      "source": [
        "class NIN(nn.Module):\n",
        "    def __init__(self, num_classes):\n",
        "        super(NIN,self).__init__()\n",
        "        #super() lets you avoid referring to the base class explicitly, \n",
        "        #which can be nice. But the main advantage comes with multiple inheritance\n",
        "        self.num_classes=num_classes\n",
        "        self.features=nn.Sequential(\n",
        "            nn.Conv2d(3,192,5,padding=2),\n",
        "            nn.ReLU(inplace=True),\n",
        "            nn.Conv2d(192,160,1),\n",
        "            nn.Relu(inplace=True),\n",
        "            nn.Conv2d(160,96,1),\n",
        "            nn.Relu(inplace=True),\n",
        "            nn.Maxpool2d(3,stride=2,ceil_mode=True),\n",
        "            n.Dropout(inplace=True),\n",
        "            nn.Conv2d(192,192,3,padding=1),\n",
        "            nn.Relu(inplace=True),\n",
        "            nn.Conv2d(192,192,1),\n",
        "            nn.Relu(inplace=True),\n",
        "            nn.Conv2d(192,self.num_classes,1)\n",
        "            nn.ReLU(inplace=True),\n",
        "            nn.Avgpool2d(8,stride=1),\n",
        "        )\n",
        "        self._initialize_weights()\n",
        "\n",
        "    def forward(self,x):\n",
        "        x=self.features(x)\n",
        "        x=x.view(x.size(0),self.num_classes)\n",
        "        return x\n",
        "    def _initialize_weights(self):\n",
        "        for m in self.module():\n",
        "             m.weight.data.normal_(0, 0.05)\n",
        "                if m.bias is not None:\n",
        "                    m.bias.data.zero_()"
      ],
      "execution_count": null,
      "outputs": []
    }
  ]
}